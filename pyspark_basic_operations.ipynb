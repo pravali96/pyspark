{
  "nbformat": 4,
  "nbformat_minor": 0,
  "metadata": {
    "colab": {
      "name": "pyspark basic operations.ipynb",
      "provenance": [],
      "collapsed_sections": [],
      "authorship_tag": "ABX9TyOB+rU7xn3kxO8XuF0DSWxG",
      "include_colab_link": true
    },
    "kernelspec": {
      "name": "python3",
      "display_name": "Python 3"
    },
    "language_info": {
      "name": "python"
    }
  },
  "cells": [
    {
      "cell_type": "markdown",
      "metadata": {
        "id": "view-in-github",
        "colab_type": "text"
      },
      "source": [
        "<a href=\"https://colab.research.google.com/github/pravali96/pyspark/blob/main/pyspark_basic_operations.ipynb\" target=\"_parent\"><img src=\"https://colab.research.google.com/assets/colab-badge.svg\" alt=\"Open In Colab\"/></a>"
      ]
    },
    {
      "cell_type": "code",
      "metadata": {
        "colab": {
          "base_uri": "https://localhost:8080/"
        },
        "id": "ea1_QtBAp52T",
        "outputId": "d7704788-e05e-4279-f8d2-c0024b730546"
      },
      "source": [
        "pip install pyspark"
      ],
      "execution_count": 1,
      "outputs": [
        {
          "output_type": "stream",
          "text": [
            "Collecting pyspark\n",
            "  Downloading pyspark-3.1.2.tar.gz (212.4 MB)\n",
            "\u001b[K     |████████████████████████████████| 212.4 MB 58 kB/s \n",
            "\u001b[?25hCollecting py4j==0.10.9\n",
            "  Downloading py4j-0.10.9-py2.py3-none-any.whl (198 kB)\n",
            "\u001b[K     |████████████████████████████████| 198 kB 61.0 MB/s \n",
            "\u001b[?25hBuilding wheels for collected packages: pyspark\n",
            "  Building wheel for pyspark (setup.py) ... \u001b[?25l\u001b[?25hdone\n",
            "  Created wheel for pyspark: filename=pyspark-3.1.2-py2.py3-none-any.whl size=212880768 sha256=00f3ec20f26d52164f1303e01032af54b19313c53d2fe1edd39f1742137ee435\n",
            "  Stored in directory: /root/.cache/pip/wheels/a5/0a/c1/9561f6fecb759579a7d863dcd846daaa95f598744e71b02c77\n",
            "Successfully built pyspark\n",
            "Installing collected packages: py4j, pyspark\n",
            "Successfully installed py4j-0.10.9 pyspark-3.1.2\n"
          ],
          "name": "stdout"
        }
      ]
    },
    {
      "cell_type": "code",
      "metadata": {
        "id": "FxPiCwANq1Fc"
      },
      "source": [
        "from pyspark.sql import SparkSession"
      ],
      "execution_count": 2,
      "outputs": []
    },
    {
      "cell_type": "code",
      "metadata": {
        "id": "8z-t2MWIsOlE"
      },
      "source": [
        "spark=SparkSession.builder.appName('basics').getOrCreate()"
      ],
      "execution_count": 3,
      "outputs": []
    },
    {
      "cell_type": "code",
      "metadata": {
        "colab": {
          "base_uri": "https://localhost:8080/",
          "height": 214
        },
        "id": "inyUwH9OsX9r",
        "outputId": "62749336-dc98-4dda-f3ef-a814cd8c516d"
      },
      "source": [
        "spark"
      ],
      "execution_count": 4,
      "outputs": [
        {
          "output_type": "execute_result",
          "data": {
            "text/html": [
              "\n",
              "            <div>\n",
              "                <p><b>SparkSession - in-memory</b></p>\n",
              "                \n",
              "        <div>\n",
              "            <p><b>SparkContext</b></p>\n",
              "\n",
              "            <p><a href=\"http://708c38269699:4040\">Spark UI</a></p>\n",
              "\n",
              "            <dl>\n",
              "              <dt>Version</dt>\n",
              "                <dd><code>v3.1.2</code></dd>\n",
              "              <dt>Master</dt>\n",
              "                <dd><code>local[*]</code></dd>\n",
              "              <dt>AppName</dt>\n",
              "                <dd><code>basics</code></dd>\n",
              "            </dl>\n",
              "        </div>\n",
              "        \n",
              "            </div>\n",
              "        "
            ],
            "text/plain": [
              "<pyspark.sql.session.SparkSession at 0x7f612c34d590>"
            ]
          },
          "metadata": {
            "tags": []
          },
          "execution_count": 4
        }
      ]
    },
    {
      "cell_type": "code",
      "metadata": {
        "colab": {
          "resources": {
            "http://localhost:8080/nbextensions/google.colab/files.js": {
              "data": "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",
              "ok": true,
              "headers": [
                [
                  "content-type",
                  "application/javascript"
                ]
              ],
              "status": 200,
              "status_text": ""
            }
          },
          "base_uri": "https://localhost:8080/",
          "height": 73
        },
        "id": "txtIW6v9saNB",
        "outputId": "e43271e3-408c-430d-a506-787e7c223830"
      },
      "source": [
        "# reading the data set\n",
        "from google.colab import files\n",
        "uploaded=files.upload()\n",
        "import io\n"
      ],
      "execution_count": 6,
      "outputs": [
        {
          "output_type": "display_data",
          "data": {
            "text/html": [
              "\n",
              "     <input type=\"file\" id=\"files-4f823ad0-0e29-4984-b293-bbdda9b7383b\" name=\"files[]\" multiple disabled\n",
              "        style=\"border:none\" />\n",
              "     <output id=\"result-4f823ad0-0e29-4984-b293-bbdda9b7383b\">\n",
              "      Upload widget is only available when the cell has been executed in the\n",
              "      current browser session. Please rerun this cell to enable.\n",
              "      </output>\n",
              "      <script src=\"/nbextensions/google.colab/files.js\"></script> "
            ],
            "text/plain": [
              "<IPython.core.display.HTML object>"
            ]
          },
          "metadata": {
            "tags": []
          }
        },
        {
          "output_type": "stream",
          "text": [
            "Saving sample.csv to sample.csv\n"
          ],
          "name": "stdout"
        }
      ]
    },
    {
      "cell_type": "code",
      "metadata": {
        "id": "FfdNq3KDs-dP"
      },
      "source": [
        "df=spark.read.option('header','true').csv('sample.csv', inferSchema=True)"
      ],
      "execution_count": 8,
      "outputs": []
    },
    {
      "cell_type": "code",
      "metadata": {
        "colab": {
          "base_uri": "https://localhost:8080/"
        },
        "id": "aeObQa4EsoH6",
        "outputId": "705010a9-c962-4a0a-f27e-e40096e24fd3"
      },
      "source": [
        "df.show()"
      ],
      "execution_count": 9,
      "outputs": [
        {
          "output_type": "stream",
          "text": [
            "+---------+-----+-----------+\n",
            "|   Region|Sales|Expenditure|\n",
            "+---------+-----+-----------+\n",
            "|  Chennai|20000|      50000|\n",
            "|Hyderabad|25000|      20000|\n",
            "|Bangalore|15000|      30000|\n",
            "|   Mumbai|16000|      35000|\n",
            "| Kolkatta|26000|      40000|\n",
            "|  Chennai|16000|      20000|\n",
            "|Bangalore|26000|      30000|\n",
            "|   Mumbai|20000|      24000|\n",
            "|Bangalore|25000|      30000|\n",
            "|Hyderabad|18000|      25000|\n",
            "+---------+-----+-----------+\n",
            "\n"
          ],
          "name": "stdout"
        }
      ]
    },
    {
      "cell_type": "code",
      "metadata": {
        "colab": {
          "base_uri": "https://localhost:8080/"
        },
        "id": "pdCzwGM8uM9D",
        "outputId": "e13da98e-76ac-4910-9550-edd6904c0562"
      },
      "source": [
        "df.printSchema()"
      ],
      "execution_count": 10,
      "outputs": [
        {
          "output_type": "stream",
          "text": [
            "root\n",
            " |-- Region: string (nullable = true)\n",
            " |-- Sales: integer (nullable = true)\n",
            " |-- Expenditure: integer (nullable = true)\n",
            "\n"
          ],
          "name": "stdout"
        }
      ]
    },
    {
      "cell_type": "code",
      "metadata": {
        "colab": {
          "base_uri": "https://localhost:8080/"
        },
        "id": "jV7ee3qDuPvz",
        "outputId": "130eb7e8-fd50-4ea0-ee2a-527764bbf953"
      },
      "source": [
        "#combining all into one, if header is false headings will be considered as values\n",
        "df=spark.read.csv('sample.csv', header=True, inferSchema=True)\n",
        "df.show()"
      ],
      "execution_count": 11,
      "outputs": [
        {
          "output_type": "stream",
          "text": [
            "+---------+-----+-----------+\n",
            "|   Region|Sales|Expenditure|\n",
            "+---------+-----+-----------+\n",
            "|  Chennai|20000|      50000|\n",
            "|Hyderabad|25000|      20000|\n",
            "|Bangalore|15000|      30000|\n",
            "|   Mumbai|16000|      35000|\n",
            "| Kolkatta|26000|      40000|\n",
            "|  Chennai|16000|      20000|\n",
            "|Bangalore|26000|      30000|\n",
            "|   Mumbai|20000|      24000|\n",
            "|Bangalore|25000|      30000|\n",
            "|Hyderabad|18000|      25000|\n",
            "+---------+-----+-----------+\n",
            "\n"
          ],
          "name": "stdout"
        }
      ]
    },
    {
      "cell_type": "code",
      "metadata": {
        "colab": {
          "base_uri": "https://localhost:8080/"
        },
        "id": "XwNhzUtnueOX",
        "outputId": "3f5ac73a-277f-4311-9f21-69cb06341123"
      },
      "source": [
        "type(df)"
      ],
      "execution_count": 12,
      "outputs": [
        {
          "output_type": "execute_result",
          "data": {
            "text/plain": [
              "pyspark.sql.dataframe.DataFrame"
            ]
          },
          "metadata": {
            "tags": []
          },
          "execution_count": 12
        }
      ]
    },
    {
      "cell_type": "code",
      "metadata": {
        "colab": {
          "base_uri": "https://localhost:8080/"
        },
        "id": "WVX3IZf4uou5",
        "outputId": "dae7d8f1-c6bc-4783-99c3-367f8491b43e"
      },
      "source": [
        "df.head(3)"
      ],
      "execution_count": 13,
      "outputs": [
        {
          "output_type": "execute_result",
          "data": {
            "text/plain": [
              "[Row(Region='Chennai', Sales=20000, Expenditure=50000),\n",
              " Row(Region='Hyderabad', Sales=25000, Expenditure=20000),\n",
              " Row(Region='Bangalore', Sales=15000, Expenditure=30000)]"
            ]
          },
          "metadata": {
            "tags": []
          },
          "execution_count": 13
        }
      ]
    },
    {
      "cell_type": "code",
      "metadata": {
        "colab": {
          "base_uri": "https://localhost:8080/"
        },
        "id": "ab8ewXNMuroK",
        "outputId": "1bf5e7ac-d717-4dbd-961c-bc0ed0766038"
      },
      "source": [
        "# selecting columns\n",
        "sub=df.select(['Region', 'Expenditure'])\n",
        "sub.show()"
      ],
      "execution_count": 14,
      "outputs": [
        {
          "output_type": "stream",
          "text": [
            "+---------+-----------+\n",
            "|   Region|Expenditure|\n",
            "+---------+-----------+\n",
            "|  Chennai|      50000|\n",
            "|Hyderabad|      20000|\n",
            "|Bangalore|      30000|\n",
            "|   Mumbai|      35000|\n",
            "| Kolkatta|      40000|\n",
            "|  Chennai|      20000|\n",
            "|Bangalore|      30000|\n",
            "|   Mumbai|      24000|\n",
            "|Bangalore|      30000|\n",
            "|Hyderabad|      25000|\n",
            "+---------+-----------+\n",
            "\n"
          ],
          "name": "stdout"
        }
      ]
    },
    {
      "cell_type": "code",
      "metadata": {
        "colab": {
          "base_uri": "https://localhost:8080/"
        },
        "id": "ird_hv2au5VH",
        "outputId": "a23942bf-9932-43c5-b038-7147b848d259"
      },
      "source": [
        "df.dtypes"
      ],
      "execution_count": 15,
      "outputs": [
        {
          "output_type": "execute_result",
          "data": {
            "text/plain": [
              "[('Region', 'string'), ('Sales', 'int'), ('Expenditure', 'int')]"
            ]
          },
          "metadata": {
            "tags": []
          },
          "execution_count": 15
        }
      ]
    },
    {
      "cell_type": "code",
      "metadata": {
        "colab": {
          "base_uri": "https://localhost:8080/"
        },
        "id": "vCjxj_WKu8sQ",
        "outputId": "0aa07601-44f7-48b7-d010-498a9e93c202"
      },
      "source": [
        "#describe function\n",
        "df.describe()"
      ],
      "execution_count": 16,
      "outputs": [
        {
          "output_type": "execute_result",
          "data": {
            "text/plain": [
              "DataFrame[summary: string, Region: string, Sales: string, Expenditure: string]"
            ]
          },
          "metadata": {
            "tags": []
          },
          "execution_count": 16
        }
      ]
    },
    {
      "cell_type": "code",
      "metadata": {
        "colab": {
          "base_uri": "https://localhost:8080/"
        },
        "id": "1n4UQUGNvB44",
        "outputId": "d1bddfb7-872c-4bb6-c9af-773e77b2050a"
      },
      "source": [
        "df.describe().show()"
      ],
      "execution_count": 17,
      "outputs": [
        {
          "output_type": "stream",
          "text": [
            "+-------+---------+----------------+-----------------+\n",
            "|summary|   Region|           Sales|      Expenditure|\n",
            "+-------+---------+----------------+-----------------+\n",
            "|  count|       10|              10|               10|\n",
            "|   mean|     null|         20700.0|          30400.0|\n",
            "| stddev|     null|4448.47039878753|9335.713982098827|\n",
            "|    min|Bangalore|           15000|            20000|\n",
            "|    max|   Mumbai|           26000|            50000|\n",
            "+-------+---------+----------------+-----------------+\n",
            "\n"
          ],
          "name": "stdout"
        }
      ]
    },
    {
      "cell_type": "code",
      "metadata": {
        "colab": {
          "base_uri": "https://localhost:8080/"
        },
        "id": "hMmfil0-vGAn",
        "outputId": "7b212f80-a42c-4161-9784-525ccc883e3f"
      },
      "source": [
        "#adding columns\n",
        "df1=df.withColumn('Revenue', df['Expenditure']-df['Sales'])\n",
        "df1.show()"
      ],
      "execution_count": 18,
      "outputs": [
        {
          "output_type": "stream",
          "text": [
            "+---------+-----+-----------+-------+\n",
            "|   Region|Sales|Expenditure|Revenue|\n",
            "+---------+-----+-----------+-------+\n",
            "|  Chennai|20000|      50000|  30000|\n",
            "|Hyderabad|25000|      20000|  -5000|\n",
            "|Bangalore|15000|      30000|  15000|\n",
            "|   Mumbai|16000|      35000|  19000|\n",
            "| Kolkatta|26000|      40000|  14000|\n",
            "|  Chennai|16000|      20000|   4000|\n",
            "|Bangalore|26000|      30000|   4000|\n",
            "|   Mumbai|20000|      24000|   4000|\n",
            "|Bangalore|25000|      30000|   5000|\n",
            "|Hyderabad|18000|      25000|   7000|\n",
            "+---------+-----+-----------+-------+\n",
            "\n"
          ],
          "name": "stdout"
        }
      ]
    },
    {
      "cell_type": "code",
      "metadata": {
        "colab": {
          "base_uri": "https://localhost:8080/"
        },
        "id": "DmhjCs4yvrIq",
        "outputId": "3167ba04-51f7-4dc3-804a-9af0e7784f0e"
      },
      "source": [
        "#renaming columns\n",
        "df1.withColumnRenamed('Revenue', 'revenue').show()"
      ],
      "execution_count": 19,
      "outputs": [
        {
          "output_type": "stream",
          "text": [
            "+---------+-----+-----------+-------+\n",
            "|   Region|Sales|Expenditure|revenue|\n",
            "+---------+-----+-----------+-------+\n",
            "|  Chennai|20000|      50000|  30000|\n",
            "|Hyderabad|25000|      20000|  -5000|\n",
            "|Bangalore|15000|      30000|  15000|\n",
            "|   Mumbai|16000|      35000|  19000|\n",
            "| Kolkatta|26000|      40000|  14000|\n",
            "|  Chennai|16000|      20000|   4000|\n",
            "|Bangalore|26000|      30000|   4000|\n",
            "|   Mumbai|20000|      24000|   4000|\n",
            "|Bangalore|25000|      30000|   5000|\n",
            "|Hyderabad|18000|      25000|   7000|\n",
            "+---------+-----+-----------+-------+\n",
            "\n"
          ],
          "name": "stdout"
        }
      ]
    },
    {
      "cell_type": "code",
      "metadata": {
        "colab": {
          "base_uri": "https://localhost:8080/"
        },
        "id": "ziW32dzWveFb",
        "outputId": "b03f5887-89d5-428a-8ef3-a72595f9f9a3"
      },
      "source": [
        "# dropping columns\n",
        "df1.drop('revenue').show()"
      ],
      "execution_count": 22,
      "outputs": [
        {
          "output_type": "stream",
          "text": [
            "+---------+-----+-----------+\n",
            "|   Region|Sales|Expenditure|\n",
            "+---------+-----+-----------+\n",
            "|  Chennai|20000|      50000|\n",
            "|Hyderabad|25000|      20000|\n",
            "|Bangalore|15000|      30000|\n",
            "|   Mumbai|16000|      35000|\n",
            "| Kolkatta|26000|      40000|\n",
            "|  Chennai|16000|      20000|\n",
            "|Bangalore|26000|      30000|\n",
            "|   Mumbai|20000|      24000|\n",
            "|Bangalore|25000|      30000|\n",
            "|Hyderabad|18000|      25000|\n",
            "+---------+-----+-----------+\n",
            "\n"
          ],
          "name": "stdout"
        }
      ]
    },
    {
      "cell_type": "code",
      "metadata": {
        "colab": {
          "base_uri": "https://localhost:8080/"
        },
        "id": "wNqTWBf2v4_b",
        "outputId": "5456feeb-7750-4cad-96a0-8f4c83b71ad0"
      },
      "source": [
        ""
      ],
      "execution_count": 23,
      "outputs": [
        {
          "output_type": "stream",
          "text": [
            "+---------+-----+-----------+-------+\n",
            "|   Region|Sales|Expenditure|Revenue|\n",
            "+---------+-----+-----------+-------+\n",
            "|  Chennai|20000|      50000|  30000|\n",
            "|Hyderabad|25000|      20000|  -5000|\n",
            "|Bangalore|15000|      30000|  15000|\n",
            "|   Mumbai|16000|      35000|  19000|\n",
            "| Kolkatta|26000|      40000|  14000|\n",
            "|  Chennai|16000|      20000|   4000|\n",
            "|Bangalore|26000|      30000|   4000|\n",
            "|   Mumbai|20000|      24000|   4000|\n",
            "|Bangalore|25000|      30000|   5000|\n",
            "|Hyderabad|18000|      25000|   7000|\n",
            "+---------+-----+-----------+-------+\n",
            "\n"
          ],
          "name": "stdout"
        }
      ]
    },
    {
      "cell_type": "markdown",
      "metadata": {
        "id": "6mn1U1rcwJ8h"
      },
      "source": [
        "## Handling Missing Values"
      ]
    },
    {
      "cell_type": "code",
      "metadata": {
        "colab": {
          "resources": {
            "http://localhost:8080/nbextensions/google.colab/files.js": {
              "data": "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",
              "ok": true,
              "headers": [
                [
                  "content-type",
                  "application/javascript"
                ]
              ],
              "status": 200,
              "status_text": ""
            }
          },
          "base_uri": "https://localhost:8080/",
          "height": 73
        },
        "id": "DwaZX6Ivv6W-",
        "outputId": "6904ceaf-218d-404c-f26d-ac9761e098a8"
      },
      "source": [
        "# reading the data set\n",
        "from google.colab import files\n",
        "uploaded=files.upload()\n",
        "import io\n"
      ],
      "execution_count": 24,
      "outputs": [
        {
          "output_type": "display_data",
          "data": {
            "text/html": [
              "\n",
              "     <input type=\"file\" id=\"files-af2cbf90-86be-40a8-bdda-6ed11f5bc46d\" name=\"files[]\" multiple disabled\n",
              "        style=\"border:none\" />\n",
              "     <output id=\"result-af2cbf90-86be-40a8-bdda-6ed11f5bc46d\">\n",
              "      Upload widget is only available when the cell has been executed in the\n",
              "      current browser session. Please rerun this cell to enable.\n",
              "      </output>\n",
              "      <script src=\"/nbextensions/google.colab/files.js\"></script> "
            ],
            "text/plain": [
              "<IPython.core.display.HTML object>"
            ]
          },
          "metadata": {
            "tags": []
          }
        },
        {
          "output_type": "stream",
          "text": [
            "Saving sample.csv to sample (1).csv\n"
          ],
          "name": "stdout"
        }
      ]
    },
    {
      "cell_type": "code",
      "metadata": {
        "id": "U2KTeQONw84q"
      },
      "source": [
        "df2=spark.read.csv('sample (1).csv', header=True, inferSchema=True)"
      ],
      "execution_count": 27,
      "outputs": []
    },
    {
      "cell_type": "code",
      "metadata": {
        "colab": {
          "base_uri": "https://localhost:8080/"
        },
        "id": "rOfNXAXfxO24",
        "outputId": "13b03925-f27d-4321-9e38-11d740793c50"
      },
      "source": [
        "df2.show()"
      ],
      "execution_count": 28,
      "outputs": [
        {
          "output_type": "stream",
          "text": [
            "+---------+-----+-----------+-------+----+--------------+\n",
            "|   Region|Sales|Expenditure|Manager|  VP|Total Quantity|\n",
            "+---------+-----+-----------+-------+----+--------------+\n",
            "|  Chennai|20000|      50000|     RJ|  OJ|           546|\n",
            "|Hyderabad|25000|      20000|     DJ|  PJ|           564|\n",
            "|Bangalore|15000|      30000|     VJ|  OJ|           469|\n",
            "|   Mumbai|16000|      35000|     RJ|  PJ|           779|\n",
            "| Kolkatta|26000|      40000|     DJ|  OJ|           487|\n",
            "|  Chennai|16000|      20000|     VJ|null|           748|\n",
            "|Bangalore|26000|      30000|   null|  OJ|           457|\n",
            "|   Mumbai|20000|      24000|   null|null|           420|\n",
            "|Bangalore|25000|      30000|   null|null|          null|\n",
            "|Hyderabad|18000|      25000|     RJ|null|           250|\n",
            "+---------+-----+-----------+-------+----+--------------+\n",
            "\n"
          ],
          "name": "stdout"
        }
      ]
    },
    {
      "cell_type": "code",
      "metadata": {
        "colab": {
          "base_uri": "https://localhost:8080/"
        },
        "id": "Dh9sdFULxQY-",
        "outputId": "b3fb21c9-c85c-43ab-e76e-1a7e761284d6"
      },
      "source": [
        "df2.printSchema"
      ],
      "execution_count": 29,
      "outputs": [
        {
          "output_type": "execute_result",
          "data": {
            "text/plain": [
              "<bound method DataFrame.printSchema of DataFrame[Region: string, Sales: int, Expenditure: int, Manager: string, VP: string, Total Quantity: int]>"
            ]
          },
          "metadata": {
            "tags": []
          },
          "execution_count": 29
        }
      ]
    },
    {
      "cell_type": "code",
      "metadata": {
        "colab": {
          "base_uri": "https://localhost:8080/"
        },
        "id": "6pRukFmPyw7S",
        "outputId": "d2f96f82-91d6-4bb3-f3cb-40933313c5d1"
      },
      "source": [
        "df2.na.drop().show() #deletes all rows with missing records"
      ],
      "execution_count": 31,
      "outputs": [
        {
          "output_type": "stream",
          "text": [
            "+---------+-----+-----------+-------+---+--------------+\n",
            "|   Region|Sales|Expenditure|Manager| VP|Total Quantity|\n",
            "+---------+-----+-----------+-------+---+--------------+\n",
            "|  Chennai|20000|      50000|     RJ| OJ|           546|\n",
            "|Hyderabad|25000|      20000|     DJ| PJ|           564|\n",
            "|Bangalore|15000|      30000|     VJ| OJ|           469|\n",
            "|   Mumbai|16000|      35000|     RJ| PJ|           779|\n",
            "| Kolkatta|26000|      40000|     DJ| OJ|           487|\n",
            "+---------+-----+-----------+-------+---+--------------+\n",
            "\n"
          ],
          "name": "stdout"
        }
      ]
    },
    {
      "cell_type": "code",
      "metadata": {
        "colab": {
          "base_uri": "https://localhost:8080/"
        },
        "id": "5kKcbOzHy5Qd",
        "outputId": "f22e878e-f83f-446e-9d99-b4abcd42145b"
      },
      "source": [
        "df2.na.drop(how='any', thresh=5).show() \n",
        "# deletes any record that doesnt have atleast 5 non missing values"
      ],
      "execution_count": 34,
      "outputs": [
        {
          "output_type": "stream",
          "text": [
            "+---------+-----+-----------+-------+----+--------------+\n",
            "|   Region|Sales|Expenditure|Manager|  VP|Total Quantity|\n",
            "+---------+-----+-----------+-------+----+--------------+\n",
            "|  Chennai|20000|      50000|     RJ|  OJ|           546|\n",
            "|Hyderabad|25000|      20000|     DJ|  PJ|           564|\n",
            "|Bangalore|15000|      30000|     VJ|  OJ|           469|\n",
            "|   Mumbai|16000|      35000|     RJ|  PJ|           779|\n",
            "| Kolkatta|26000|      40000|     DJ|  OJ|           487|\n",
            "|  Chennai|16000|      20000|     VJ|null|           748|\n",
            "|Bangalore|26000|      30000|   null|  OJ|           457|\n",
            "|Hyderabad|18000|      25000|     RJ|null|           250|\n",
            "+---------+-----+-----------+-------+----+--------------+\n",
            "\n"
          ],
          "name": "stdout"
        }
      ]
    },
    {
      "cell_type": "code",
      "metadata": {
        "colab": {
          "base_uri": "https://localhost:8080/"
        },
        "id": "C6nu06yozDB2",
        "outputId": "e7162a27-68cd-4029-dae1-773729908f10"
      },
      "source": [
        "df2.na.drop(how='all', thresh=4 ).show()\n",
        "#If 'any', drop a row if it contains any nulls.\n",
        "# If 'all', drop a row only if all its values are null."
      ],
      "execution_count": 40,
      "outputs": [
        {
          "output_type": "stream",
          "text": [
            "+---------+-----+-----------+-------+----+--------------+\n",
            "|   Region|Sales|Expenditure|Manager|  VP|Total Quantity|\n",
            "+---------+-----+-----------+-------+----+--------------+\n",
            "|  Chennai|20000|      50000|     RJ|  OJ|           546|\n",
            "|Hyderabad|25000|      20000|     DJ|  PJ|           564|\n",
            "|Bangalore|15000|      30000|     VJ|  OJ|           469|\n",
            "|   Mumbai|16000|      35000|     RJ|  PJ|           779|\n",
            "| Kolkatta|26000|      40000|     DJ|  OJ|           487|\n",
            "|  Chennai|16000|      20000|     VJ|null|           748|\n",
            "|Bangalore|26000|      30000|   null|  OJ|           457|\n",
            "|   Mumbai|20000|      24000|   null|null|           420|\n",
            "|Hyderabad|18000|      25000|     RJ|null|           250|\n",
            "+---------+-----+-----------+-------+----+--------------+\n",
            "\n"
          ],
          "name": "stdout"
        }
      ]
    },
    {
      "cell_type": "code",
      "metadata": {
        "colab": {
          "base_uri": "https://localhost:8080/"
        },
        "id": "JtrtWDiYzqRK",
        "outputId": "8d5fabfe-773b-44ed-a31a-9c250c61e843"
      },
      "source": [
        "df2.na.drop(how='any', subset=['VP']).show()\n",
        "# deletes only the rows that have missing values in VP"
      ],
      "execution_count": 41,
      "outputs": [
        {
          "output_type": "stream",
          "text": [
            "+---------+-----+-----------+-------+---+--------------+\n",
            "|   Region|Sales|Expenditure|Manager| VP|Total Quantity|\n",
            "+---------+-----+-----------+-------+---+--------------+\n",
            "|  Chennai|20000|      50000|     RJ| OJ|           546|\n",
            "|Hyderabad|25000|      20000|     DJ| PJ|           564|\n",
            "|Bangalore|15000|      30000|     VJ| OJ|           469|\n",
            "|   Mumbai|16000|      35000|     RJ| PJ|           779|\n",
            "| Kolkatta|26000|      40000|     DJ| OJ|           487|\n",
            "|Bangalore|26000|      30000|   null| OJ|           457|\n",
            "+---------+-----+-----------+-------+---+--------------+\n",
            "\n"
          ],
          "name": "stdout"
        }
      ]
    },
    {
      "cell_type": "code",
      "metadata": {
        "colab": {
          "base_uri": "https://localhost:8080/"
        },
        "id": "tiXyT7aW0YA2",
        "outputId": "3110e306-179f-45a6-d8e1-8d2bc8005649"
      },
      "source": [
        "#Imputation\n",
        "df22=df2.na.fill('Missing Values',['Manager', 'VP'])\n",
        "df22.show()"
      ],
      "execution_count": 44,
      "outputs": [
        {
          "output_type": "stream",
          "text": [
            "+---------+-----+-----------+--------------+--------------+--------------+\n",
            "|   Region|Sales|Expenditure|       Manager|            VP|Total Quantity|\n",
            "+---------+-----+-----------+--------------+--------------+--------------+\n",
            "|  Chennai|20000|      50000|            RJ|            OJ|           546|\n",
            "|Hyderabad|25000|      20000|            DJ|            PJ|           564|\n",
            "|Bangalore|15000|      30000|            VJ|            OJ|           469|\n",
            "|   Mumbai|16000|      35000|            RJ|            PJ|           779|\n",
            "| Kolkatta|26000|      40000|            DJ|            OJ|           487|\n",
            "|  Chennai|16000|      20000|            VJ|Missing Values|           748|\n",
            "|Bangalore|26000|      30000|Missing Values|            OJ|           457|\n",
            "|   Mumbai|20000|      24000|Missing Values|Missing Values|           420|\n",
            "|Bangalore|25000|      30000|Missing Values|Missing Values|          null|\n",
            "|Hyderabad|18000|      25000|            RJ|Missing Values|           250|\n",
            "+---------+-----+-----------+--------------+--------------+--------------+\n",
            "\n"
          ],
          "name": "stdout"
        }
      ]
    },
    {
      "cell_type": "code",
      "metadata": {
        "id": "ibNYx3m90zxD"
      },
      "source": [
        "from pyspark.ml.feature import Imputer\n",
        "imputer=Imputer(\n",
        "    inputCols=['Total Quantity'],\n",
        "    outputCols=[\"{}_imputer\".format(c) for c in ['Total Quantity']]\n",
        ").setStrategy(\"mean\")"
      ],
      "execution_count": 47,
      "outputs": []
    },
    {
      "cell_type": "code",
      "metadata": {
        "colab": {
          "base_uri": "https://localhost:8080/"
        },
        "id": "g5dr6Biq1r-C",
        "outputId": "7972d3e1-43c2-4a30-8d16-a7f6237b47e0"
      },
      "source": [
        "imputer.fit(df22).transform(df22).show()"
      ],
      "execution_count": 48,
      "outputs": [
        {
          "output_type": "stream",
          "text": [
            "+---------+-----+-----------+--------------+--------------+--------------+----------------------+\n",
            "|   Region|Sales|Expenditure|       Manager|            VP|Total Quantity|Total Quantity_imputer|\n",
            "+---------+-----+-----------+--------------+--------------+--------------+----------------------+\n",
            "|  Chennai|20000|      50000|            RJ|            OJ|           546|                   546|\n",
            "|Hyderabad|25000|      20000|            DJ|            PJ|           564|                   564|\n",
            "|Bangalore|15000|      30000|            VJ|            OJ|           469|                   469|\n",
            "|   Mumbai|16000|      35000|            RJ|            PJ|           779|                   779|\n",
            "| Kolkatta|26000|      40000|            DJ|            OJ|           487|                   487|\n",
            "|  Chennai|16000|      20000|            VJ|Missing Values|           748|                   748|\n",
            "|Bangalore|26000|      30000|Missing Values|            OJ|           457|                   457|\n",
            "|   Mumbai|20000|      24000|Missing Values|Missing Values|           420|                   420|\n",
            "|Bangalore|25000|      30000|Missing Values|Missing Values|          null|                   524|\n",
            "|Hyderabad|18000|      25000|            RJ|Missing Values|           250|                   250|\n",
            "+---------+-----+-----------+--------------+--------------+--------------+----------------------+\n",
            "\n"
          ],
          "name": "stdout"
        }
      ]
    },
    {
      "cell_type": "markdown",
      "metadata": {
        "id": "QuB-_SuQ2Fzf"
      },
      "source": [
        "## Filter Operations"
      ]
    },
    {
      "cell_type": "code",
      "metadata": {
        "colab": {
          "base_uri": "https://localhost:8080/"
        },
        "id": "PLAST0n82CkQ",
        "outputId": "6b3dd112-de96-4ff0-b5da-acc8a9061648"
      },
      "source": [
        "df2.filter('Expenditure>20000').show()"
      ],
      "execution_count": 49,
      "outputs": [
        {
          "output_type": "stream",
          "text": [
            "+---------+-----+-----------+-------+----+--------------+\n",
            "|   Region|Sales|Expenditure|Manager|  VP|Total Quantity|\n",
            "+---------+-----+-----------+-------+----+--------------+\n",
            "|  Chennai|20000|      50000|     RJ|  OJ|           546|\n",
            "|Bangalore|15000|      30000|     VJ|  OJ|           469|\n",
            "|   Mumbai|16000|      35000|     RJ|  PJ|           779|\n",
            "| Kolkatta|26000|      40000|     DJ|  OJ|           487|\n",
            "|Bangalore|26000|      30000|   null|  OJ|           457|\n",
            "|   Mumbai|20000|      24000|   null|null|           420|\n",
            "|Bangalore|25000|      30000|   null|null|          null|\n",
            "|Hyderabad|18000|      25000|     RJ|null|           250|\n",
            "+---------+-----+-----------+-------+----+--------------+\n",
            "\n"
          ],
          "name": "stdout"
        }
      ]
    },
    {
      "cell_type": "code",
      "metadata": {
        "colab": {
          "base_uri": "https://localhost:8080/"
        },
        "id": "pJYY0U_H19MT",
        "outputId": "bf2f35eb-e1b5-458c-cb7f-eaf18613b5c8"
      },
      "source": [
        "df2.filter('Expenditure>20000').select(['Region','Expenditure']).show()"
      ],
      "execution_count": 52,
      "outputs": [
        {
          "output_type": "stream",
          "text": [
            "+---------+-----------+\n",
            "|   Region|Expenditure|\n",
            "+---------+-----------+\n",
            "|  Chennai|      50000|\n",
            "|Bangalore|      30000|\n",
            "|   Mumbai|      35000|\n",
            "| Kolkatta|      40000|\n",
            "|Bangalore|      30000|\n",
            "|   Mumbai|      24000|\n",
            "|Bangalore|      30000|\n",
            "|Hyderabad|      25000|\n",
            "+---------+-----------+\n",
            "\n"
          ],
          "name": "stdout"
        }
      ]
    },
    {
      "cell_type": "code",
      "metadata": {
        "colab": {
          "base_uri": "https://localhost:8080/"
        },
        "id": "b6YvtZRq2ljJ",
        "outputId": "b6a1e84b-3463-4451-ff23-0a316bd4ccf9"
      },
      "source": [
        "df2.filter('Manager==\"DJ\"').select(['Region','Expenditure','Manager']).show()"
      ],
      "execution_count": 55,
      "outputs": [
        {
          "output_type": "stream",
          "text": [
            "+---------+-----------+-------+\n",
            "|   Region|Expenditure|Manager|\n",
            "+---------+-----------+-------+\n",
            "|Hyderabad|      20000|     DJ|\n",
            "| Kolkatta|      40000|     DJ|\n",
            "+---------+-----------+-------+\n",
            "\n"
          ],
          "name": "stdout"
        }
      ]
    },
    {
      "cell_type": "code",
      "metadata": {
        "colab": {
          "base_uri": "https://localhost:8080/"
        },
        "id": "OzegK-Oo21Do",
        "outputId": "997d325f-a12f-4ee9-8b91-7ba7f4c1626a"
      },
      "source": [
        "df2.filter((df2['Manager']==\"DJ\") & (df2['Expenditure']>21000)).show()"
      ],
      "execution_count": 58,
      "outputs": [
        {
          "output_type": "stream",
          "text": [
            "+--------+-----+-----------+-------+---+--------------+\n",
            "|  Region|Sales|Expenditure|Manager| VP|Total Quantity|\n",
            "+--------+-----+-----------+-------+---+--------------+\n",
            "|Kolkatta|26000|      40000|     DJ| OJ|           487|\n",
            "+--------+-----+-----------+-------+---+--------------+\n",
            "\n"
          ],
          "name": "stdout"
        }
      ]
    },
    {
      "cell_type": "code",
      "metadata": {
        "colab": {
          "base_uri": "https://localhost:8080/"
        },
        "id": "qaToEAAA3WqV",
        "outputId": "9ab1f330-d46b-4a89-8e1e-8fff61eb4391"
      },
      "source": [
        "# Negation\n",
        "df2.filter(~(df2['Manager']==\"DJ\") & (df2['Expenditure']>20000)).show()\n",
        "#gives all the recors where manager is not DJ and exp > 20K"
      ],
      "execution_count": 59,
      "outputs": [
        {
          "output_type": "stream",
          "text": [
            "+---------+-----+-----------+-------+----+--------------+\n",
            "|   Region|Sales|Expenditure|Manager|  VP|Total Quantity|\n",
            "+---------+-----+-----------+-------+----+--------------+\n",
            "|  Chennai|20000|      50000|     RJ|  OJ|           546|\n",
            "|Bangalore|15000|      30000|     VJ|  OJ|           469|\n",
            "|   Mumbai|16000|      35000|     RJ|  PJ|           779|\n",
            "|Hyderabad|18000|      25000|     RJ|null|           250|\n",
            "+---------+-----+-----------+-------+----+--------------+\n",
            "\n"
          ],
          "name": "stdout"
        }
      ]
    },
    {
      "cell_type": "markdown",
      "metadata": {
        "id": "HYf3MVsD4oQN"
      },
      "source": [
        "## Groupby and Aggregations"
      ]
    },
    {
      "cell_type": "code",
      "metadata": {
        "colab": {
          "base_uri": "https://localhost:8080/"
        },
        "id": "W6CngGdA4Xq_",
        "outputId": "14ae9a93-0d45-4838-ca5b-ad85da59c621"
      },
      "source": [
        "df2.groupBy('Region').sum().show() #Sums up all num cols wrt Region"
      ],
      "execution_count": 60,
      "outputs": [
        {
          "output_type": "stream",
          "text": [
            "+---------+----------+----------------+-------------------+\n",
            "|   Region|sum(Sales)|sum(Expenditure)|sum(Total Quantity)|\n",
            "+---------+----------+----------------+-------------------+\n",
            "|Bangalore|     66000|           90000|                926|\n",
            "| Kolkatta|     26000|           40000|                487|\n",
            "|  Chennai|     36000|           70000|               1294|\n",
            "|   Mumbai|     36000|           59000|               1199|\n",
            "|Hyderabad|     43000|           45000|                814|\n",
            "+---------+----------+----------------+-------------------+\n",
            "\n"
          ],
          "name": "stdout"
        }
      ]
    },
    {
      "cell_type": "code",
      "metadata": {
        "colab": {
          "base_uri": "https://localhost:8080/"
        },
        "id": "rekwYA8g40o2",
        "outputId": "cf5e2b80-b8d6-466c-9b6c-09570167fb4e"
      },
      "source": [
        "df2.groupby('Manager').sum('Sales').show()"
      ],
      "execution_count": 62,
      "outputs": [
        {
          "output_type": "stream",
          "text": [
            "+-------+----------+\n",
            "|Manager|sum(Sales)|\n",
            "+-------+----------+\n",
            "|   null|     71000|\n",
            "|     VJ|     31000|\n",
            "|     DJ|     51000|\n",
            "|     RJ|     54000|\n",
            "+-------+----------+\n",
            "\n"
          ],
          "name": "stdout"
        }
      ]
    },
    {
      "cell_type": "code",
      "metadata": {
        "colab": {
          "base_uri": "https://localhost:8080/"
        },
        "id": "XNDSDccV5FOj",
        "outputId": "7f24dc3a-56e4-4402-c61c-6a6d7fd38109"
      },
      "source": [
        "df2.groupby('Manager').mean('Sales').show()"
      ],
      "execution_count": 63,
      "outputs": [
        {
          "output_type": "stream",
          "text": [
            "+-------+------------------+\n",
            "|Manager|        avg(Sales)|\n",
            "+-------+------------------+\n",
            "|   null|23666.666666666668|\n",
            "|     VJ|           15500.0|\n",
            "|     DJ|           25500.0|\n",
            "|     RJ|           18000.0|\n",
            "+-------+------------------+\n",
            "\n"
          ],
          "name": "stdout"
        }
      ]
    },
    {
      "cell_type": "code",
      "metadata": {
        "colab": {
          "base_uri": "https://localhost:8080/"
        },
        "id": "pgNmW0xU5Ucn",
        "outputId": "0d4fd028-ff9b-41f7-927f-cc28d7f22325"
      },
      "source": [
        "df2.groupby('Region').count().show()"
      ],
      "execution_count": 64,
      "outputs": [
        {
          "output_type": "stream",
          "text": [
            "+---------+-----+\n",
            "|   Region|count|\n",
            "+---------+-----+\n",
            "|Bangalore|    3|\n",
            "| Kolkatta|    1|\n",
            "|  Chennai|    2|\n",
            "|   Mumbai|    2|\n",
            "|Hyderabad|    2|\n",
            "+---------+-----+\n",
            "\n"
          ],
          "name": "stdout"
        }
      ]
    },
    {
      "cell_type": "code",
      "metadata": {
        "colab": {
          "base_uri": "https://localhost:8080/"
        },
        "id": "ID0ZY2uK5cYO",
        "outputId": "0d014f60-8f30-4a3d-f896-608c8941aa1f"
      },
      "source": [
        "df2.agg({'Sales':'sum'}).show()"
      ],
      "execution_count": 65,
      "outputs": [
        {
          "output_type": "stream",
          "text": [
            "+----------+\n",
            "|sum(Sales)|\n",
            "+----------+\n",
            "|    207000|\n",
            "+----------+\n",
            "\n"
          ],
          "name": "stdout"
        }
      ]
    },
    {
      "cell_type": "code",
      "metadata": {
        "id": "5g62weNu5mSO"
      },
      "source": [
        ""
      ],
      "execution_count": null,
      "outputs": []
    }
  ]
}